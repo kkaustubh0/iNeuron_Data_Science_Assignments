{
 "cells": [
  {
   "cell_type": "markdown",
   "id": "a4da7cbf",
   "metadata": {},
   "source": [
    "#### 1. In the below elements which of them are values or an expression? eg:- values can be integer or string and expressions will be mathematical operators."
   ]
  },
  {
   "cell_type": "markdown",
   "id": "13203a9e",
   "metadata": {},
   "source": [
    "- Expressions : *, -, /, + <br>\n",
    "- Values : -87.8, 6, 'hello'"
   ]
  },
  {
   "cell_type": "markdown",
   "id": "294f1fb7",
   "metadata": {},
   "source": [
    "#### 2. What is the difference between string and variable?"
   ]
  },
  {
   "cell_type": "markdown",
   "id": "06ef8af5",
   "metadata": {},
   "source": [
    "- A string is a collection of characters which is represented inside a set of double or single quotes. For example h-e-l-l-o is a collection of five characters and can be represented as a string as :\"hello\". Any interger value which is represented in double or single quotes is also a string. For example \"25\".\n",
    "- A variable refers to a memory location which can be used to store any value. The value could be a string, integer or decimal value. For example a = 10, here a is the variable and 10 is the value it is storing. Similarby b = \"hello\", here b is the variable which is storing the string \"hello\"."
   ]
  },
  {
   "cell_type": "markdown",
   "id": "82405469",
   "metadata": {},
   "source": [
    "#### 3. Describe three different data types."
   ]
  },
  {
   "cell_type": "markdown",
   "id": "ce5a5ee6",
   "metadata": {},
   "source": [
    "- Int : Stores the integer value.\n",
    "- Char : Stores a String\n",
    "- Float : Stores a decimal or floating point value"
   ]
  },
  {
   "cell_type": "markdown",
   "id": "2a32e520",
   "metadata": {},
   "source": [
    "#### 4. What is an expression made up of? What do all expressions do?"
   ]
  },
  {
   "cell_type": "markdown",
   "id": "b5d79f0e",
   "metadata": {},
   "source": [
    "- An expression is a combination of values, variables, operators, and function calls that results in a single value. Expressions can be simple or complex, but they always evaluate to a single value. \n",
    "- Expressions can be used to perform mathematical calculations, assign values, evaluate conditionsetc."
   ]
  },
  {
   "cell_type": "markdown",
   "id": "aadc8adf",
   "metadata": {},
   "source": [
    "#### 5. The assignment statements, like spam = 10. What is the difference between an expression and a statement?"
   ]
  },
  {
   "cell_type": "markdown",
   "id": "3364fb9b",
   "metadata": {},
   "source": [
    "- spam = 10 is a statement that assigns the value 10 to the variable spam. It does not produce a value but changes the state of the program by creating or updating a variable. Unlike expressions, statements do not necessarily produce a value.\n",
    "- An expression is a piece of code that evaluates to a single value. For example: 5 + 3 is an expression that evaluates to the value 8"
   ]
  },
  {
   "cell_type": "markdown",
   "id": "7c5471e7",
   "metadata": {},
   "source": [
    "#### 6. After running the following code, what does the variable bacon contain?\n",
    "bacon = 22 <br>\n",
    "bacon + 1"
   ]
  },
  {
   "cell_type": "code",
   "execution_count": 1,
   "id": "c951526e",
   "metadata": {},
   "outputs": [
    {
     "name": "stdout",
     "output_type": "stream",
     "text": [
      "22\n"
     ]
    }
   ],
   "source": [
    "bacon = 22\n",
    "bacon + 1\n",
    "print(bacon)"
   ]
  },
  {
   "cell_type": "markdown",
   "id": "5d331b26",
   "metadata": {},
   "source": [
    "- Hence, the variable bacon will still contain the value 22 since after increment, it is not being assigned back to the variable."
   ]
  },
  {
   "cell_type": "markdown",
   "id": "ec7868bb",
   "metadata": {},
   "source": [
    "#### 7. What should the values of the following two terms be?"
   ]
  },
  {
   "cell_type": "code",
   "execution_count": 2,
   "id": "4e8deaa3",
   "metadata": {},
   "outputs": [
    {
     "data": {
      "text/plain": [
       "'spamspamspam'"
      ]
     },
     "execution_count": 2,
     "metadata": {},
     "output_type": "execute_result"
    }
   ],
   "source": [
    "'spam'+'spamspam' # It is string concatenation"
   ]
  },
  {
   "cell_type": "code",
   "execution_count": 3,
   "id": "3c4d6f5e",
   "metadata": {},
   "outputs": [
    {
     "data": {
      "text/plain": [
       "'spamspamspam'"
      ]
     },
     "execution_count": 3,
     "metadata": {},
     "output_type": "execute_result"
    }
   ],
   "source": [
    "'spam'*3 # It will print the string 'spam' three times "
   ]
  },
  {
   "cell_type": "markdown",
   "id": "9c693f4a",
   "metadata": {},
   "source": [
    "#### 8. Why is eggs a valid variable name while 100 is invalid?"
   ]
  },
  {
   "cell_type": "markdown",
   "id": "369e1cdb",
   "metadata": {},
   "source": [
    "- eggs is a valid variable name but 100 is not because a variable name can start with an alphabet but not with an integer."
   ]
  },
  {
   "cell_type": "markdown",
   "id": "dfacebcf",
   "metadata": {},
   "source": [
    "#### 9. What three functions can be used to get the integer, floating-point number, or string version of a value?"
   ]
  },
  {
   "cell_type": "markdown",
   "id": "a0d83c22",
   "metadata": {},
   "source": [
    "- int() for integer, float() for floating-point and str() for string can be used."
   ]
  },
  {
   "cell_type": "markdown",
   "id": "e2cc3fbc",
   "metadata": {},
   "source": [
    "#### 10. Why does this expression cause an error? How can you fix it?\n"
   ]
  },
  {
   "cell_type": "markdown",
   "id": "a675834c",
   "metadata": {},
   "source": [
    "- The expression is causing error because we are trying to concatenate string values with integer. To fix this, we can use a quotes for '99' to make it string and then concatenate as below."
   ]
  },
  {
   "cell_type": "code",
   "execution_count": 5,
   "id": "f36a6772",
   "metadata": {},
   "outputs": [
    {
     "data": {
      "text/plain": [
       "'I have eaten 99 burritos'"
      ]
     },
     "execution_count": 5,
     "metadata": {},
     "output_type": "execute_result"
    }
   ],
   "source": [
    "'I have eaten ' + '99' + ' burritos' "
   ]
  }
 ],
 "metadata": {
  "kernelspec": {
   "display_name": "Python 3 (ipykernel)",
   "language": "python",
   "name": "python3"
  },
  "language_info": {
   "codemirror_mode": {
    "name": "ipython",
    "version": 3
   },
   "file_extension": ".py",
   "mimetype": "text/x-python",
   "name": "python",
   "nbconvert_exporter": "python",
   "pygments_lexer": "ipython3",
   "version": "3.9.13"
  }
 },
 "nbformat": 4,
 "nbformat_minor": 5
}
