{
 "cells": [
  {
   "cell_type": "markdown",
   "metadata": {},
   "source": [
    "### 1.What are the two values of the Boolean data type? How do you write them?"
   ]
  },
  {
   "cell_type": "markdown",
   "metadata": {},
   "source": [
    "The two values of the Boolean data type is 1 and 0 and they are written as True and False, respectively."
   ]
  },
  {
   "cell_type": "markdown",
   "metadata": {},
   "source": [
    "### 2. What are the three different types of Boolean operators?"
   ]
  },
  {
   "cell_type": "markdown",
   "metadata": {},
   "source": [
    "The three different types of boolean operators are 'and', 'or' and 'not'"
   ]
  },
  {
   "cell_type": "markdown",
   "metadata": {},
   "source": [
    "### 3. Make a list of each Boolean operator's truth tables (i.e. every possible combination of Boolean values for the operator and what it evaluate )."
   ]
  },
  {
   "cell_type": "markdown",
   "metadata": {},
   "source": [
    "\n",
    "#### AND Operator Truth Table\n",
    "\n",
    "| A     | B     | A and B |\n",
    "|-------|-------|---------|\n",
    "| True  | True  | True    |\n",
    "| True  | False | False   |\n",
    "| False | True  | False   |\n",
    "| False | False | False   |\n",
    "\n",
    "#### OR Operator Truth Table\n",
    "\n",
    "| A     | B     | A or B  |\n",
    "|-------|-------|---------|\n",
    "| True  | True  | True    |\n",
    "| True  | False | True    |\n",
    "| False | True  | True    |\n",
    "| False | False | False   |\n",
    "\n",
    "#### NOT Operator Truth Table\n",
    "\n",
    "| A     | not A |\n",
    "|-------|-------|\n",
    "| True  | False |\n",
    "| False | True  |\n"
   ]
  },
  {
   "cell_type": "markdown",
   "metadata": {},
   "source": [
    "### 4. What are the values of the following expressions?\n",
    "1. (5 &gt; 4) and (3 == 5)\n",
    "2. not (5 &gt; 4)\n",
    "3. (5 &gt; 4) or (3 == 5)\n",
    "4. not ((5 &gt; 4) or (3 == 5))\n",
    "5. (True and True) and (True == False)\n",
    "6. (not False) or (not True)"
   ]
  },
  {
   "cell_type": "markdown",
   "metadata": {},
   "source": [
    "- False\n",
    "- False\n",
    "- True\n",
    "- False\n",
    "- False\n",
    "- True"
   ]
  },
  {
   "cell_type": "markdown",
   "metadata": {},
   "source": [
    "### 5. What are the six comparison operators?"
   ]
  },
  {
   "cell_type": "markdown",
   "metadata": {},
   "source": [
    "The six comparison operators in Python are:\n",
    "\n",
    "1. **Equal to (`==`)**: This operator returns `True` if the operands on both sides are equal.\n",
    "\n",
    "2. **Not equal to (`!=`)**: This operator returns `True` if the operands on both sides are not equal.\n",
    "\n",
    "3. **Greater than (`>`)**: This operator returns `True` if the operand on the left side is greater than the operand on the right side.\n",
    "\n",
    "4. **Less than (`<`)**: This operator returns `True` if the operand on the left side is less than the operand on the right side.\n",
    "\n",
    "5. **Greater than or equal to (`>=`)**: This operator returns `True` if the operand on the left side is greater than or equal to the operand on the right side.\n",
    "\n",
    "6. **Less than or equal to (`<=`)**: This operator returns `True` if the operand on the left side is less than or equal to the operand on the right side.\n"
   ]
  },
  {
   "cell_type": "markdown",
   "metadata": {},
   "source": [
    "### 6. How do you tell the difference between the equal to and assignment operators?Describe a condition and when you would use one."
   ]
  },
  {
   "cell_type": "markdown",
   "metadata": {},
   "source": [
    "\n",
    "- **Equal to (`==`) Operator**: This operator is used to compare the equality of two values or expressions. It returns `True` if the values are equal and `False` otherwise.\n",
    "\n",
    "- **Assignment (`=`) Operator**: This operator is used to assign a value to a variable. It takes the value on the right and assigns it to the variable on the left.\n"
   ]
  },
  {
   "cell_type": "code",
   "execution_count": 1,
   "metadata": {},
   "outputs": [
    {
     "name": "stdout",
     "output_type": "stream",
     "text": [
      "x is equal to 5\n"
     ]
    }
   ],
   "source": [
    "# Assigning a value to a variable using the assignment operator\n",
    "x = 5\n",
    "\n",
    "# Comparing the value of x to another value using the equal to operator\n",
    "if x == 5:\n",
    "    print(\"x is equal to 5\")\n",
    "else:\n",
    "    print(\"x is not equal to 5\")\n"
   ]
  },
  {
   "cell_type": "markdown",
   "metadata": {},
   "source": [
    "### 7. Identify the three blocks in this code:"
   ]
  },
  {
   "cell_type": "code",
   "execution_count": 3,
   "metadata": {},
   "outputs": [
    {
     "name": "stdout",
     "output_type": "stream",
     "text": [
      "ham\n",
      "spam\n",
      "spam\n"
     ]
    }
   ],
   "source": [
    "# The three blocks of code are written below:\n",
    "spam = 0\n",
    "if spam == 10:\n",
    "    print('eggs')\n",
    "if spam > 5:\n",
    "    print('bacon')\n",
    "else:\n",
    "    print('ham')\n",
    "    print('spam')\n",
    "    print('spam')"
   ]
  },
  {
   "cell_type": "markdown",
   "metadata": {},
   "source": [
    "### 8. Write code that prints Hello if 1 is stored in spam, prints Howdy if 2 is stored in spam, and prints Greetings! if anything else is stored in spam."
   ]
  },
  {
   "cell_type": "code",
   "execution_count": 4,
   "metadata": {},
   "outputs": [
    {
     "name": "stdout",
     "output_type": "stream",
     "text": [
      "Howdy\n"
     ]
    }
   ],
   "source": [
    "spam =  int(input(\"Enter either 1 or 2 or anything else\"))\n",
    "\n",
    "if spam == 1:\n",
    "    print(\"Hello\")\n",
    "elif spam == 2:\n",
    "    print(\"Howdy\")\n",
    "else:\n",
    "    print(\"Greetings!\")\n"
   ]
  },
  {
   "cell_type": "markdown",
   "metadata": {},
   "source": [
    "### 9.If your programme is stuck in an endless loop, what keys you’ll press?"
   ]
  },
  {
   "cell_type": "markdown",
   "metadata": {},
   "source": [
    "Depending upon the IDEs, an infinite loop can be interrupted. For example, in Jupyter Notebook, we can use interrupt kernel directly. Ctrl + C can be used in command prompt. "
   ]
  },
  {
   "cell_type": "markdown",
   "metadata": {},
   "source": [
    "### 10. How can you tell the difference between break and continue?"
   ]
  },
  {
   "cell_type": "markdown",
   "metadata": {},
   "source": [
    "break terminates the loop entirely, while continue skips the current iteration and moves to the next one."
   ]
  },
  {
   "cell_type": "markdown",
   "metadata": {},
   "source": [
    "### 11. In a for loop, what is the difference between range(10), range(0, 10), and range(0, 10, 1)?"
   ]
  },
  {
   "cell_type": "markdown",
   "metadata": {},
   "source": [
    "\n",
    "- `range(10)`: This generates a sequence of numbers from 0 to 9. It starts from 0 by default and stops at 9. The step size defaults to 1.\n",
    "\n",
    "- `range(0, 10)`: This is explicitly specifying the start and end of the sequence. It starts from 0 and stops at 9. The step size defaults to 1.\n",
    "\n",
    "- `range(0, 10, 1)`: This is also explicitly specifying the start and end of the sequence, along with the step size. It starts from 0, stops at 9, and increments by 1.\n",
    "\n",
    "All the three will essentially do the same thing as illustrated below\n"
   ]
  },
  {
   "cell_type": "code",
   "execution_count": 5,
   "metadata": {},
   "outputs": [
    {
     "name": "stdout",
     "output_type": "stream",
     "text": [
      "Kumar Kaustubh\n",
      "Kumar Kaustubh\n",
      "Kumar Kaustubh\n",
      "Kumar Kaustubh\n",
      "Kumar Kaustubh\n",
      "Kumar Kaustubh\n",
      "Kumar Kaustubh\n",
      "Kumar Kaustubh\n",
      "Kumar Kaustubh\n",
      "Kumar Kaustubh\n"
     ]
    }
   ],
   "source": [
    "for i in range(10):\n",
    "    print(\"Kumar Kaustubh\")"
   ]
  },
  {
   "cell_type": "code",
   "execution_count": 6,
   "metadata": {},
   "outputs": [
    {
     "name": "stdout",
     "output_type": "stream",
     "text": [
      "Kumar Kaustubh\n",
      "Kumar Kaustubh\n",
      "Kumar Kaustubh\n",
      "Kumar Kaustubh\n",
      "Kumar Kaustubh\n",
      "Kumar Kaustubh\n",
      "Kumar Kaustubh\n",
      "Kumar Kaustubh\n",
      "Kumar Kaustubh\n",
      "Kumar Kaustubh\n"
     ]
    }
   ],
   "source": [
    "for i in range(0, 10):\n",
    "    print(\"Kumar Kaustubh\")"
   ]
  },
  {
   "cell_type": "code",
   "execution_count": 7,
   "metadata": {},
   "outputs": [
    {
     "name": "stdout",
     "output_type": "stream",
     "text": [
      "Kumar Kaustubh\n",
      "Kumar Kaustubh\n",
      "Kumar Kaustubh\n",
      "Kumar Kaustubh\n",
      "Kumar Kaustubh\n",
      "Kumar Kaustubh\n",
      "Kumar Kaustubh\n",
      "Kumar Kaustubh\n",
      "Kumar Kaustubh\n",
      "Kumar Kaustubh\n"
     ]
    }
   ],
   "source": [
    "for i in range(0, 10, 1):\n",
    "    print(\"Kumar Kaustubh\")"
   ]
  },
  {
   "cell_type": "markdown",
   "metadata": {},
   "source": [
    "### 12. Write a short program that prints the numbers 1 to 10 using a for loop. Then write an equivalent program that prints the numbers 1 to 10 using a while loop."
   ]
  },
  {
   "cell_type": "code",
   "execution_count": 9,
   "metadata": {},
   "outputs": [
    {
     "name": "stdout",
     "output_type": "stream",
     "text": [
      "1\n",
      "2\n",
      "3\n",
      "4\n",
      "5\n",
      "6\n",
      "7\n",
      "8\n",
      "9\n",
      "10\n"
     ]
    }
   ],
   "source": [
    "for x in range (1, 11):\n",
    "    print(x)"
   ]
  },
  {
   "cell_type": "code",
   "execution_count": 10,
   "metadata": {},
   "outputs": [
    {
     "name": "stdout",
     "output_type": "stream",
     "text": [
      "1\n",
      "2\n",
      "3\n",
      "4\n",
      "5\n",
      "6\n",
      "7\n",
      "8\n",
      "9\n",
      "10\n"
     ]
    }
   ],
   "source": [
    "count = 1\n",
    "while count < 11:\n",
    "    print(count)\n",
    "    count+=1"
   ]
  },
  {
   "cell_type": "markdown",
   "metadata": {},
   "source": [
    "### 13. If you had a function named bacon() inside a module named spam, how would you call it after importing spam?"
   ]
  },
  {
   "cell_type": "markdown",
   "metadata": {},
   "source": [
    "The module is spam so we will write: <br>\n",
    "\n",
    "import spam\n",
    "\n",
    "spam.bacon()"
   ]
  },
  {
   "cell_type": "markdown",
   "metadata": {},
   "source": []
  }
 ],
 "metadata": {
  "kernelspec": {
   "display_name": "Python 3",
   "language": "python",
   "name": "python3"
  },
  "language_info": {
   "codemirror_mode": {
    "name": "ipython",
    "version": 3
   },
   "file_extension": ".py",
   "mimetype": "text/x-python",
   "name": "python",
   "nbconvert_exporter": "python",
   "pygments_lexer": "ipython3",
   "version": "3.12.1"
  }
 },
 "nbformat": 4,
 "nbformat_minor": 2
}
